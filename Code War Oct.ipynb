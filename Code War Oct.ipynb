{
 "cells": [
  {
   "cell_type": "markdown",
   "id": "1f753fff",
   "metadata": {},
   "source": [
    "# Question 1:Given a linked list of N nodes such that it may contain a loop.\n",
    "\n",
    "A loop here means that the last node of the link list is connected to the node at position X(1-based index). If the link list does not have any loop, X=0.\n",
    "Remove the loop from the linked list, if it is present, i.e. unlink the last node which is forming the loop.\n",
    "\n",
    "Expected time complexity: O(N)\n",
    "Expected auxiliary space: O(1)\n",
    "\n",
    "Constraints:\n",
    "1 ≤ N ≤ 10^4\n"
   ]
  },
  {
   "cell_type": "code",
   "execution_count": 1,
   "id": "31de79a8",
   "metadata": {},
   "outputs": [],
   "source": [
    "class Node:\n",
    "    def __init__(self,value):\n",
    "        self.next=None\n",
    "        self.data=value\n",
    "class Solution:\n",
    "    #Function to remove a loop in the linked list.\n",
    "    def removeLoop(self, head):\n",
    "        # code here\n",
    "        # remove the loop without losing any nodes\n",
    "        x = set()\n",
    "        if head is None:\n",
    "            return head\n",
    "        x.add(head)\n",
    "        temp = head\n",
    "        while head and head.next:\n",
    "            # print(head.next.data)\n",
    "            if head.next not in x:\n",
    "                x.add(head.next)\n",
    "            elif head.next is None:\n",
    "                return temp\n",
    "            else:\n",
    "                head.next = None\n",
    "            head= head.next\n",
    "        return temp\n",
    "        return head"
   ]
  },
  {
   "cell_type": "markdown",
   "id": "7b3b253d",
   "metadata": {},
   "source": [
    "# Question 2:\n",
    "Given an unsorted array Arr of size N of positive integers. One number ‘A’ from set {1, 2,…,N} is missing and one number ‘B’ occurs twice in array. Find these two numbers.\n",
    "\n",
    "Expected Time Complexity: O(N)\n",
    "Expected Auxiliary Space: O(1)\n",
    "\n",
    "Constraints:\n",
    "2 ≤ N ≤ 10^5\n",
    "1 ≤ Arr[i] ≤ N"
   ]
  },
  {
   "cell_type": "code",
   "execution_count": 2,
   "id": "ba0d6d69",
   "metadata": {},
   "outputs": [],
   "source": [
    "class Solution:\n",
    "    def findTwoElement( self,arr, n): \n",
    "        repeat_element = 0\n",
    "        map={}\n",
    "        for i in range(0, len(arr)):\n",
    "            map[arr[i]]=map.get(arr[i], 0)+1\n",
    "        for i in map:\n",
    "            if map[i]>=2:\n",
    "                repeati_element = i\n",
    "        missing = int(repeat_element-((sum(arr)-(n*(n+1))/2)))\n",
    "        return [repeat_element, missing]"
   ]
  },
  {
   "cell_type": "markdown",
   "id": "485aced9",
   "metadata": {},
   "source": [
    "# Question 3:\n",
    "Given an array of size N-1 such that it only contains distinct integers in the range of 1 to N. Find the missing element.\n",
    "\n",
    "Expected Time Complexity: O(N)\n",
    "Expected Auxiliary Space: O(1)\n",
    "\n",
    "Constraints:\n",
    "1 ≤ N ≤ 10^6\n",
    "1 ≤ A[i] ≤ 10^6"
   ]
  },
  {
   "cell_type": "code",
   "execution_count": null,
   "id": "6699b410",
   "metadata": {},
   "outputs": [],
   "source": [
    "class Solution:\n",
    "    def missingNumber(self,array,n):\n",
    "        array.sort()\n",
    "        arr= [x for x in range(1, n+1)]\n",
    "        sumarr=sum(arr)\n",
    "        sumarr1=sum(array)\n",
    "        diff=sumarr-sumarr1\n",
    "        return diff"
   ]
  }
 ],
 "metadata": {
  "kernelspec": {
   "display_name": "Python 3 (ipykernel)",
   "language": "python",
   "name": "python3"
  },
  "language_info": {
   "codemirror_mode": {
    "name": "ipython",
    "version": 3
   },
   "file_extension": ".py",
   "mimetype": "text/x-python",
   "name": "python",
   "nbconvert_exporter": "python",
   "pygments_lexer": "ipython3",
   "version": "3.10.9"
  }
 },
 "nbformat": 4,
 "nbformat_minor": 5
}
